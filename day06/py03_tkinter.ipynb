{
 "cells": [
  {
   "cell_type": "markdown",
   "metadata": {},
   "source": [
    "## tkinter\n",
    "\n",
    "    - 파이썬 내장된 GUI 라이브러리"
   ]
  },
  {
   "cell_type": "code",
   "execution_count": 13,
   "metadata": {},
   "outputs": [],
   "source": [
    "from tkinter import *\n",
    "import tkinter.font as fnt"
   ]
  },
  {
   "cell_type": "markdown",
   "metadata": {},
   "source": [
    "### 기본 로직\n",
    "    - 최소로 동작하는 코드"
   ]
  },
  {
   "cell_type": "code",
   "execution_count": null,
   "metadata": {},
   "outputs": [],
   "source": [
    "root = Tk() # tkinter 객체 생성\n",
    "\n",
    "root.mainloop() # 닫기아이콘을 클릭하기 전까지 무한루프"
   ]
  },
  {
   "cell_type": "markdown",
   "metadata": {},
   "source": [
    "### 라벨 위젯 (컨트롤)\n",
    "- GUI 화면에 글자(문자열) 표현하는 컨트롤"
   ]
  },
  {
   "cell_type": "code",
   "execution_count": null,
   "metadata": {},
   "outputs": [],
   "source": [
    "root = Tk()\n",
    "\n",
    "label = Label(root, text='Hello Tkinter')\n",
    "label.pack() # 윈도우에 패킹(필수)\n",
    "\n",
    "root.mainloop()"
   ]
  },
  {
   "cell_type": "markdown",
   "metadata": {},
   "source": [
    "### 창 크기 설정\n",
    "\n",
    "- 윈도우 실행될 때 창 크기 설정"
   ]
  },
  {
   "cell_type": "code",
   "execution_count": null,
   "metadata": {},
   "outputs": [],
   "source": [
    "\n",
    "root = Tk()\n",
    "root.geometry('320x230') # 320x230, 640x480, 800x600, 1024x768(4:3)...\n",
    "\n",
    "label = Label(root, text='Hello Tkinter')\n",
    "label.pack() # 윈도우에 패킹(필수)\n",
    "\n",
    "root.mainloop()"
   ]
  },
  {
   "cell_type": "markdown",
   "metadata": {},
   "source": [
    "### 위젯 분류\n",
    "#### 컨테이너 위젯\n",
    "- 다른 위젯들을 같이 포함할 수 있는 컨테이너 형태의 위젯\n",
    "- 관련있는 위젯(컨크롤)을 묶어줌\n",
    "- Frame, LaberFrame, Famedroor\n",
    "\n",
    "#### 단순 위젯\n",
    "- 하나의 기능을 가지는 위젯\n",
    "- Button, Canvas, Checkbutton, Entry, label, message 등..."
   ]
  },
  {
   "cell_type": "code",
   "execution_count": null,
   "metadata": {},
   "outputs": [],
   "source": [
    "\n",
    "root = Tk()\n",
    "root.geometry('320x230') # 320x230, 640x480, 800x600, 1024x768(4:3)...\n",
    "\n",
    "label = Label(root, text='Hello Tkinter')\n",
    "label.pack() # 윈도우에 패킹(필수)\n",
    "\n",
    "button = Button(root, text='버튼')\n",
    "button.pack()\n",
    "\n",
    "root.mainloop()"
   ]
  },
  {
   "cell_type": "markdown",
   "metadata": {},
   "source": [
    "- 사용자가 위젯을 동작시켰을 때, 발생하는 처리로직\n",
    "- 마우스클릭, 마우스무브, 스크롤, 키프레스, 드래그,...\n",
    "- 개발자는 이러한 이벤트에 대한 처리를 구현해야 함 "
   ]
  },
  {
   "cell_type": "code",
   "execution_count": 18,
   "metadata": {},
   "outputs": [],
   "source": [
    "\n",
    "root = Tk()\n",
    "root.geometry('600x200')\n",
    "root.title('카운트 예제') # 윈도우 창 제목 변경\n",
    "\n",
    "# 이벤트\n",
    "count = 0 # 증가시킬 값\n",
    "\n",
    "def countUp():\n",
    "    global count # 전역변수 count를 이 함수 내에서 사용할 거다.\n",
    "    count += 1\n",
    "    label['text'] = f'버튼 클릭: {count}' \n",
    "\n",
    "def countInit():\n",
    "    global count \n",
    "    count = 0\n",
    "    label['text'] = f'버튼 클릭: {count}' \n",
    "\n",
    "myFont = fnt.Font(family='NanumGothic', size=20)\n",
    "\n",
    "# 숫자 카운트를 표시할 라벨\n",
    "label = Label(root, text='버튼 클릭: 0', fg='blue', font=myFont)\n",
    "# side = LEFT, TOP, RIGHT, BOTTOM\n",
    "# padding = 안쪽 여백, padx(왼쪽 오른쪽에 여백), pady(위 아래에 여백)\n",
    "label.pack(side=TOP, pady=50)\n",
    "# 버튼, command 파라미터 - 이벤트 함수를 정의\n",
    "buttonUp = Button(root, text='카운트 증가', font=myFont, command=countUp) # countUp이라는 함수를 마우스 클릭 때 실행\n",
    "buttonUp.pack(side=LEFT, padx=20, pady=20)\n",
    "buttonInit = Button(root, text='초기화', font=myFont, command=countInit) # countInit 함수 실행\n",
    "buttonInit.pack(side=RIGHT, padx=20, pady=20)\n",
    "\n",
    "root.mainloop()\n"
   ]
  },
  {
   "cell_type": "markdown",
   "metadata": {},
   "source": [
    "### 여러가지 위젯 총집합\n"
   ]
  },
  {
   "cell_type": "markdown",
   "metadata": {},
   "source": [
    "- PyImage3 doesn't exist 문제가 발생하면\n",
    "- Pillow(PIL) 라이브러리로 사용하는 방법으로 변경\n",
    "\n",
    "from PIL import Image, ImageTk\n",
    "...\n",
    "origin = Image.open('./kitty.png')\n",
    "img = ImageTk.PhotoImage(origin)"
   ]
  },
  {
   "cell_type": "code",
   "execution_count": 22,
   "metadata": {},
   "outputs": [],
   "source": [
    "root = Tk()\n",
    "root.geometry('800x600')\n",
    "root.title('위젯 연습')\n",
    "\n",
    "# 이미지\n",
    "img = PhotoImage(file='./kitty.png')\n",
    "label = Label(root, image=img)\n",
    "label.pack()\n",
    "\n",
    "root.mainloop()"
   ]
  }
 ],
 "metadata": {
  "kernelspec": {
   "display_name": "Python 3",
   "language": "python",
   "name": "python3"
  },
  "language_info": {
   "codemirror_mode": {
    "name": "ipython",
    "version": 3
   },
   "file_extension": ".py",
   "mimetype": "text/x-python",
   "name": "python",
   "nbconvert_exporter": "python",
   "pygments_lexer": "ipython3",
   "version": "3.11.9"
  }
 },
 "nbformat": 4,
 "nbformat_minor": 2
}
